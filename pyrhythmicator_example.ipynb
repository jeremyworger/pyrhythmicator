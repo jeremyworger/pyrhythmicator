{
 "cells": [
  {
   "cell_type": "code",
   "execution_count": 1,
   "metadata": {
    "collapsed": false
   },
   "outputs": [],
   "source": [
    "import pyrhythmicator\n",
    "from IPython.core.debugger import Tracer"
   ]
  },
  {
   "cell_type": "code",
   "execution_count": 7,
   "metadata": {
    "collapsed": false
   },
   "outputs": [],
   "source": [
    "pg = pyrhythmicator.PatternGenerator(4,4,['8n','16n','16n','16n'],\n",
    "                                     metric_factor=[1.,1.,1.,1.,],\n",
    "                                     syncopate_factor=[0.,1.,1.,1.,],\n",
    "                                     density=[0.5,0.5,0.8,0.9],\n",
    "                                     dynamic_range_low=[0.8,0.7,0.7,0.7])"
   ]
  },
  {
   "cell_type": "code",
   "execution_count": 8,
   "metadata": {
    "collapsed": false
   },
   "outputs": [
    {
     "name": "stdout",
     "output_type": "stream",
     "text": [
      "Using default `self.event_var`\n",
      "Using default `self.sync_var`\n",
      "Using default `self.threshold`\n",
      "Using default `self.weight_minimum`\n",
      "Using default `self.dynamic_range_high`\n"
     ]
    }
   ],
   "source": [
    "pg.generate_pattern(4)"
   ]
  },
  {
   "cell_type": "code",
   "execution_count": 9,
   "metadata": {
    "collapsed": false,
    "scrolled": false
   },
   "outputs": [
    {
     "data": {
      "text/plain": [
       "(array([ -7.21528433e-04,   5.78127058e-05,  -3.26115424e-04, ...,\n",
       "          2.40567962e-03,   2.02709036e-03,   0.00000000e+00]),\n",
       " array([[ -3.66210938e-04,   0.00000000e+00,   1.83105469e-04, ...,\n",
       "           0.00000000e+00,   0.00000000e+00,   0.00000000e+00],\n",
       "        [  0.00000000e+00,   0.00000000e+00,   0.00000000e+00, ...,\n",
       "           1.62521156e-03,   1.54528313e-03,   0.00000000e+00],\n",
       "        [ -8.58482235e-05,   4.29241118e-05,   0.00000000e+00, ...,\n",
       "           1.60929732e-04,  -4.02324331e-05,   0.00000000e+00],\n",
       "        [ -8.36529580e-05,   0.00000000e+00,  -4.25235892e-04, ...,\n",
       "           0.00000000e+00,   0.00000000e+00,   0.00000000e+00]]))"
      ]
     },
     "execution_count": 9,
     "metadata": {},
     "output_type": "execute_result"
    }
   ],
   "source": [
    "pg.synthesize('output_file.wav', \n",
    "              output_jams_file='output_file.jams',\n",
    "              audio_files=pyrhythmicator.list_audio_files_in_dir('../rhythmsimilarity/data/raw/timbre_sets/2',\n",
    "                                                                 prepend_path=True)) "
   ]
  },
  {
   "cell_type": "code",
   "execution_count": 12,
   "metadata": {
    "collapsed": false,
    "scrolled": false
   },
   "outputs": [
    {
     "data": {
      "text/plain": [
       "(array([ 0.        ,  0.        ,  0.        , ...,  0.00066218,\n",
       "         0.00084377,  0.        ]),\n",
       " array([[ 0.        ,  0.        ,  0.        , ...,  0.00018354,\n",
       "          0.00027531,  0.        ],\n",
       "        [ 0.        ,  0.        ,  0.        , ...,  0.        ,\n",
       "          0.        ,  0.        ],\n",
       "        [ 0.        ,  0.        ,  0.        , ...,  0.00030762,\n",
       "          0.00035055,  0.        ],\n",
       "        [ 0.        ,  0.        ,  0.        , ...,  0.        ,\n",
       "          0.        ,  0.        ]]))"
      ]
     },
     "execution_count": 12,
     "metadata": {},
     "output_type": "execute_result"
    }
   ],
   "source": [
    "pg.synthesize('output_file2.wav', \n",
    "              output_jams_file='output_file2.jams',\n",
    "              duration_sec=9.7,\n",
    "              audio_files=pyrhythmicator.list_audio_files_in_dir('../rhythmsimilarity/data/raw/timbre_sets/2',\n",
    "                                                                 prepend_path=True)) "
   ]
  },
  {
   "cell_type": "code",
   "execution_count": 13,
   "metadata": {
    "collapsed": false
   },
   "outputs": [
    {
     "data": {
      "text/plain": [
       "(array([ 0.        ,  0.        ,  0.        , ...,  0.00066218,\n",
       "         0.00084377,  0.        ]),\n",
       " array([[ 0.        ,  0.        ,  0.        , ...,  0.00018354,\n",
       "          0.00027531,  0.        ],\n",
       "        [ 0.        ,  0.        ,  0.        , ...,  0.        ,\n",
       "          0.        ,  0.        ],\n",
       "        [ 0.        ,  0.        ,  0.        , ...,  0.00030762,\n",
       "          0.00035055,  0.        ],\n",
       "        [ 0.        ,  0.        ,  0.        , ...,  0.        ,\n",
       "          0.        ,  0.        ]]))"
      ]
     },
     "execution_count": 13,
     "metadata": {},
     "output_type": "execute_result"
    }
   ],
   "source": [
    "pg = pyrhythmicator.PatternGenerator.from_jams('output_file2.jams')\n",
    "pg.synthesize('output_file3.wav') "
   ]
  },
  {
   "cell_type": "code",
   "execution_count": 6,
   "metadata": {
    "collapsed": false
   },
   "outputs": [],
   "source": [
    "import random\n",
    "\n",
    "for i in range(10):\n",
    "    idx = random.randint(0,1000)\n",
    "    pg.generate_pattern(4)\n",
    "    pg.synthesize('temp_{}.wav'.format(idx),\n",
    "                  output_jams_file='temp_{}.jams'.format(idx),\n",
    "                  duration_sec=20.4,\n",
    "                  audio_files=pyrhythmicator.list_audio_files_in_dir('../rhythmsimilarity/data/raw/timbre_sets/2',prepend_path=True))"
   ]
  },
  {
   "cell_type": "code",
   "execution_count": null,
   "metadata": {
    "collapsed": true
   },
   "outputs": [],
   "source": []
  }
 ],
 "metadata": {
  "kernelspec": {
   "display_name": "Python 2",
   "language": "python",
   "name": "python2"
  },
  "language_info": {
   "codemirror_mode": {
    "name": "ipython",
    "version": 2
   },
   "file_extension": ".py",
   "mimetype": "text/x-python",
   "name": "python",
   "nbconvert_exporter": "python",
   "pygments_lexer": "ipython2",
   "version": "2.7.12"
  }
 },
 "nbformat": 4,
 "nbformat_minor": 1
}
